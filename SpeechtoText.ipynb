{
 "cells": [
  {
   "cell_type": "code",
   "execution_count": 4,
   "id": "ce571b97-dc16-447b-b5e4-476b515c2e60",
   "metadata": {},
   "outputs": [
    {
     "name": "stdout",
     "output_type": "stream",
     "text": [
      "Requirement already satisfied: SpeechRecognition in c:\\users\\admin\\appdata\\local\\programs\\python\\python311\\lib\\site-packages (3.10.4)\n",
      "Requirement already satisfied: requests>=2.26.0 in c:\\users\\admin\\appdata\\local\\programs\\python\\python311\\lib\\site-packages (from SpeechRecognition) (2.31.0)\n",
      "Requirement already satisfied: typing-extensions in c:\\users\\admin\\appdata\\local\\programs\\python\\python311\\lib\\site-packages (from SpeechRecognition) (4.11.0)\n",
      "Requirement already satisfied: charset-normalizer<4,>=2 in c:\\users\\admin\\appdata\\local\\programs\\python\\python311\\lib\\site-packages (from requests>=2.26.0->SpeechRecognition) (3.3.2)\n",
      "Requirement already satisfied: idna<4,>=2.5 in c:\\users\\admin\\appdata\\local\\programs\\python\\python311\\lib\\site-packages (from requests>=2.26.0->SpeechRecognition) (3.6)\n",
      "Requirement already satisfied: urllib3<3,>=1.21.1 in c:\\users\\admin\\appdata\\local\\programs\\python\\python311\\lib\\site-packages (from requests>=2.26.0->SpeechRecognition) (2.2.1)\n",
      "Requirement already satisfied: certifi>=2017.4.17 in c:\\users\\admin\\appdata\\local\\programs\\python\\python311\\lib\\site-packages (from requests>=2.26.0->SpeechRecognition) (2024.2.2)\n"
     ]
    },
    {
     "name": "stderr",
     "output_type": "stream",
     "text": [
      "\n",
      "[notice] A new release of pip is available: 23.3.2 -> 24.1.1\n",
      "[notice] To update, run: python.exe -m pip install --upgrade pip\n"
     ]
    }
   ],
   "source": [
    "!pip install SpeechRecognition\n"
   ]
  },
  {
   "cell_type": "code",
   "execution_count": 5,
   "id": "0ddcee83-1a2d-4f49-8828-272bb95aa3de",
   "metadata": {},
   "outputs": [
    {
     "name": "stdout",
     "output_type": "stream",
     "text": [
      "Requirement already satisfied: pyttsx3 in c:\\users\\admin\\appdata\\local\\programs\\python\\python311\\lib\\site-packages (2.90)\n",
      "Requirement already satisfied: comtypes in c:\\users\\admin\\appdata\\local\\programs\\python\\python311\\lib\\site-packages (from pyttsx3) (1.4.4)\n",
      "Requirement already satisfied: pypiwin32 in c:\\users\\admin\\appdata\\local\\programs\\python\\python311\\lib\\site-packages (from pyttsx3) (223)\n",
      "Requirement already satisfied: pywin32 in c:\\users\\admin\\appdata\\local\\programs\\python\\python311\\lib\\site-packages (from pyttsx3) (306)\n"
     ]
    },
    {
     "name": "stderr",
     "output_type": "stream",
     "text": [
      "\n",
      "[notice] A new release of pip is available: 23.3.2 -> 24.1.1\n",
      "[notice] To update, run: python.exe -m pip install --upgrade pip\n"
     ]
    }
   ],
   "source": [
    "!pip install pyttsx3"
   ]
  },
  {
   "cell_type": "code",
   "execution_count": 6,
   "id": "0886eb5c-f669-4f5b-b5ec-a75200461682",
   "metadata": {},
   "outputs": [],
   "source": [
    "import speech_recognition\n",
    "import pyttsx3"
   ]
  },
  {
   "cell_type": "code",
   "execution_count": 8,
   "id": "5b456ffd-6669-4e8d-92e5-cb788953ddb2",
   "metadata": {},
   "outputs": [
    {
     "name": "stdout",
     "output_type": "stream",
     "text": [
      "Collecting pyaudio\n",
      "  Downloading PyAudio-0.2.14-cp311-cp311-win_amd64.whl.metadata (2.7 kB)\n",
      "Downloading PyAudio-0.2.14-cp311-cp311-win_amd64.whl (164 kB)\n",
      "   ---------------------------------------- 0.0/164.1 kB ? eta -:--:--\n",
      "   ---------------------------------------- 0.0/164.1 kB ? eta -:--:--\n",
      "   -- ------------------------------------- 10.2/164.1 kB ? eta -:--:--\n",
      "   -- ------------------------------------- 10.2/164.1 kB ? eta -:--:--\n",
      "   ------- ------------------------------- 30.7/164.1 kB 217.9 kB/s eta 0:00:01\n",
      "   ------- ------------------------------- 30.7/164.1 kB 217.9 kB/s eta 0:00:01\n",
      "   -------------- ------------------------ 61.4/164.1 kB 273.8 kB/s eta 0:00:01\n",
      "   --------------------- ----------------- 92.2/164.1 kB 350.1 kB/s eta 0:00:01\n",
      "   --------------------------------- ---- 143.4/164.1 kB 473.7 kB/s eta 0:00:01\n",
      "   -------------------------------------  163.8/164.1 kB 517.2 kB/s eta 0:00:01\n",
      "   -------------------------------------- 164.1/164.1 kB 447.2 kB/s eta 0:00:00\n",
      "Installing collected packages: pyaudio\n",
      "Successfully installed pyaudio-0.2.14\n"
     ]
    },
    {
     "name": "stderr",
     "output_type": "stream",
     "text": [
      "\n",
      "[notice] A new release of pip is available: 23.3.2 -> 24.1.1\n",
      "[notice] To update, run: python.exe -m pip install --upgrade pip\n"
     ]
    }
   ],
   "source": [
    "!pip install pyaudio"
   ]
  },
  {
   "cell_type": "code",
   "execution_count": 12,
   "id": "fba9925f-0b3b-4f4a-aace-b41fae46ee14",
   "metadata": {},
   "outputs": [],
   "source": [
    "def Speaknow(command):\n",
    "    voice = pyttsx3.init()\n",
    "    voice.say(command)\n",
    "    voice.runAndWait()"
   ]
  },
  {
   "cell_type": "code",
   "execution_count": 13,
   "id": "f87b23ba-c482-40e1-9f2d-3f429d1850c4",
   "metadata": {},
   "outputs": [
    {
     "name": "stdout",
     "output_type": "stream",
     "text": [
      "Silence please\n",
      "Speak Now please\n",
      "Did you say:- hello i am rohan\n"
     ]
    }
   ],
   "source": [
    "sr = speech_recognition.Recognizer()\n",
    "\n",
    "with speech_recognition.Microphone() as source2:\n",
    "    print(\"Silence please\")\n",
    "    sr.adjust_for_ambient_noise(source2,duration = 2)\n",
    "    print('Speak Now please')\n",
    "    audio2 = sr.listen(source2)\n",
    "    text = sr.recognize_google(audio2)\n",
    "    text = text.lower()\n",
    "    print('Did you say:- ' +text)\n",
    "    Speaknow(text)"
   ]
  },
  {
   "cell_type": "code",
   "execution_count": null,
   "id": "e6b97350-e69e-43f9-b3d5-11a0b032c29f",
   "metadata": {},
   "outputs": [],
   "source": []
  }
 ],
 "metadata": {
  "kernelspec": {
   "display_name": "Python 3 (ipykernel)",
   "language": "python",
   "name": "python3"
  },
  "language_info": {
   "codemirror_mode": {
    "name": "ipython",
    "version": 3
   },
   "file_extension": ".py",
   "mimetype": "text/x-python",
   "name": "python",
   "nbconvert_exporter": "python",
   "pygments_lexer": "ipython3",
   "version": "3.11.4"
  }
 },
 "nbformat": 4,
 "nbformat_minor": 5
}
