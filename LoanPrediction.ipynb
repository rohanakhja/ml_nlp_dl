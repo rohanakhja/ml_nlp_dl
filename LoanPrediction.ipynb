{
 "cells": [
  {
   "cell_type": "code",
   "execution_count": 36,
   "id": "4841f6ca-2271-4754-ba4f-a8fd412d3e71",
   "metadata": {},
   "outputs": [
    {
     "name": "stdout",
     "output_type": "stream",
     "text": [
      "<class 'pandas.core.frame.DataFrame'>\n",
      "RangeIndex: 614 entries, 0 to 613\n",
      "Data columns (total 13 columns):\n",
      " #   Column             Non-Null Count  Dtype  \n",
      "---  ------             --------------  -----  \n",
      " 0   Loan_ID            614 non-null    object \n",
      " 1   Gender             601 non-null    object \n",
      " 2   Married            611 non-null    object \n",
      " 3   Dependents         599 non-null    object \n",
      " 4   Education          614 non-null    object \n",
      " 5   Self_Employed      582 non-null    object \n",
      " 6   ApplicantIncome    614 non-null    int64  \n",
      " 7   CoapplicantIncome  614 non-null    float64\n",
      " 8   LoanAmount         592 non-null    float64\n",
      " 9   Loan_Amount_Term   600 non-null    float64\n",
      " 10  Credit_History     564 non-null    float64\n",
      " 11  Property_Area      614 non-null    object \n",
      " 12  Loan_Status        614 non-null    object \n",
      "dtypes: float64(4), int64(1), object(8)\n",
      "memory usage: 62.5+ KB\n"
     ]
    }
   ],
   "source": [
    "import pandas as pd\n",
    "from sklearn.preprocessing import LabelEncoder\n",
    "from sklearn.model_selection import train_test_split\n",
    "from sklearn.naive_bayes import GaussianNB\n",
    "from sklearn.ensemble import RandomForestClassifier\n",
    "from sklearn.metrics import accuracy_score\n",
    "from sklearn.impute import SimpleImputer\n",
    "from sklearn.ensemble import GradientBoostingClassifier\n",
    "from sklearn.metrics import classification_report\n",
    "\n",
    "\n",
    "data = pd.read_excel(\"Copy of loan.xlsx\")  # Replace with your data file path\n",
    "data.head()\n",
    "\n",
    "data.info()\n"
   ]
  },
  {
   "cell_type": "code",
   "execution_count": 37,
   "id": "4a6f8933-056d-4580-a45b-2c859cb084c2",
   "metadata": {},
   "outputs": [
    {
     "name": "stdout",
     "output_type": "stream",
     "text": [
      "Gender           int32\n",
      "Married          int32\n",
      "Dependents       int32\n",
      "Education        int32\n",
      "Self_Employed    int32\n",
      "Property_Area    int32\n",
      "Loan_Status      int32\n",
      "dtype: object\n"
     ]
    }
   ],
   "source": [
    "\n",
    "categorical_features = [\n",
    "    col for col in data.columns if data[col].dtype == \"object\" and col != \"Loan_ID\"\n",
    "]\n",
    "\n",
    "for col in categorical_features:\n",
    "    data[col] = data[col].astype(str)\n",
    "    data[col].fillna(\"other\")\n",
    "\n",
    "le = LabelEncoder()\n",
    "for col in categorical_features:\n",
    "    data[col] = le.fit_transform(data[col])\n",
    "\n",
    "print(data[categorical_features].dtypes)"
   ]
  },
  {
   "cell_type": "code",
   "execution_count": 39,
   "id": "e7e41d33-1527-4a2d-b87e-53d6a235dd13",
   "metadata": {},
   "outputs": [
    {
     "name": "stdout",
     "output_type": "stream",
     "text": [
      "GaussianNB Accuracy: 0.7886178861788617\n",
      "Random Forest Accuracy: 0.7642276422764228\n",
      "Gradient Boosting Accuracy: 0.7398373983739838\n",
      "              precision    recall  f1-score   support\n",
      "\n",
      "           0       0.72      0.42      0.53        43\n",
      "           1       0.74      0.91      0.82        80\n",
      "\n",
      "    accuracy                           0.74       123\n",
      "   macro avg       0.73      0.67      0.67       123\n",
      "weighted avg       0.74      0.74      0.72       123\n",
      "\n",
      "Best Algorithm: GaussianNB\n"
     ]
    }
   ],
   "source": [
    "\n",
    "features = data.drop([\"Loan_Status\", \"Loan_ID\"], axis=1)  # Drop Loan_Status and Loan_ID columns\n",
    "target = data[\"Loan_Status\"]\n",
    "\n",
    "\n",
    "imputer = SimpleImputer(strategy='most_frequent')  # Replace missing values with most frequent value\n",
    "features_imputed = imputer.fit_transform(features)\n",
    "\n",
    "\n",
    "X_train, X_test, y_train, y_test = train_test_split(features_imputed, target, test_size=0.2, random_state=42)\n",
    "\n",
    "\n",
    "\n",
    "\n",
    "gnb = GaussianNB()\n",
    "gnb.fit(X_train, y_train)\n",
    "\n",
    "\n",
    "y_pred_gnb = gnb.predict(X_test)\n",
    "\n",
    "\n",
    "gnb_accuracy = accuracy_score(y_test, y_pred_gnb)\n",
    "print(\"GaussianNB Accuracy:\", gnb_accuracy)\n",
    "\n",
    "\n",
    "rf = RandomForestClassifier(n_estimators=100, random_state=42)\n",
    "rf.fit(X_train, y_train)\n",
    "\n",
    "y_pred_rf = rf.predict(X_test)\n",
    "\n",
    "rf_accuracy = accuracy_score(y_test, y_pred_rf)\n",
    "print(\"Random Forest Accuracy:\", rf_accuracy)\n",
    "\n",
    "gb = GradientBoostingClassifier(n_estimators=100, random_state=42)\n",
    "gb.fit(X_train, y_train)\n",
    "y_pred_gb = gb.predict(X_test)\n",
    "gb_accuracy = accuracy_score(y_test, y_pred_gb)\n",
    "\n",
    "print(\"Gradient Boosting Accuracy:\", gb_accuracy)\n",
    "print(classification_report(y_test, y_pred_gb))\n",
    "\n",
    "best_algorithm = \"Gradient Boosting\" if gb_accuracy > max(gnb_accuracy, rf_accuracy) else best_algorithm\n",
    "print(\"Best Algorithm:\", best_algorithm)"
   ]
  },
  {
   "cell_type": "code",
   "execution_count": null,
   "id": "d280f46e-b364-4dad-b471-ec3c467961d7",
   "metadata": {},
   "outputs": [],
   "source": []
  }
 ],
 "metadata": {
  "kernelspec": {
   "display_name": "Python 3 (ipykernel)",
   "language": "python",
   "name": "python3"
  },
  "language_info": {
   "codemirror_mode": {
    "name": "ipython",
    "version": 3
   },
   "file_extension": ".py",
   "mimetype": "text/x-python",
   "name": "python",
   "nbconvert_exporter": "python",
   "pygments_lexer": "ipython3",
   "version": "3.11.4"
  }
 },
 "nbformat": 4,
 "nbformat_minor": 5
}
