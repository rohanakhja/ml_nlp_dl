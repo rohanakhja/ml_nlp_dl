{
 "cells": [
  {
   "cell_type": "code",
   "execution_count": 2,
   "id": "008f6633-a3fb-42b8-97d8-265ba21aa262",
   "metadata": {},
   "outputs": [],
   "source": [
    "import speech_recognition\n",
    "import pyttsx3\n",
    "import webbrowser"
   ]
  },
  {
   "cell_type": "code",
   "execution_count": 11,
   "id": "05ecfa3c-f7f2-4c2e-a844-07b0218f3bb8",
   "metadata": {},
   "outputs": [
    {
     "name": "stdout",
     "output_type": "stream",
     "text": [
      "say\n",
      "hearing\n",
      "you asked this: - www.youtube.com\n"
     ]
    }
   ],
   "source": [
    "if __name__ == '__main__':\n",
    "    path = 'C:/Program Files (x86)/Microsoft/Edge/Application/msedge_proxy.exe %s'\n",
    "    sr  = speech_recognition.Recognizer()\n",
    "    with speech_recognition.Microphone() as source:\n",
    "        sr.adjust_for_ambient_noise(source)\n",
    "        print('say')\n",
    "        audio = sr.listen(source)\n",
    "        print('hearing')\n",
    "        try:\n",
    "            destination = sr.recognize_google(audio)\n",
    "            print('you asked this: - '+ destination)\n",
    "            webbrowser.get(path).open(destination)\n",
    "        except Exception as e:\n",
    "            print('error' + str(e))\n",
    "            "
   ]
  },
  {
   "cell_type": "code",
   "execution_count": null,
   "id": "7bc926c7-99fd-4ddc-8eb7-353f1c494deb",
   "metadata": {},
   "outputs": [],
   "source": []
  }
 ],
 "metadata": {
  "kernelspec": {
   "display_name": "Python 3 (ipykernel)",
   "language": "python",
   "name": "python3"
  },
  "language_info": {
   "codemirror_mode": {
    "name": "ipython",
    "version": 3
   },
   "file_extension": ".py",
   "mimetype": "text/x-python",
   "name": "python",
   "nbconvert_exporter": "python",
   "pygments_lexer": "ipython3",
   "version": "3.11.4"
  }
 },
 "nbformat": 4,
 "nbformat_minor": 5
}
